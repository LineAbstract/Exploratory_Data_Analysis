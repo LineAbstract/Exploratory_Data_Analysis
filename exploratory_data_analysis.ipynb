{
 "cells": [
  {
   "cell_type": "markdown",
   "metadata": {},
   "source": [
    "## Exploratory Data Analysis P.1"
   ]
  },
  {
   "cell_type": "markdown",
   "metadata": {},
   "source": [
    "#### Setting up imports for Pandas, Matplotlib and MySQL Connector"
   ]
  },
  {
   "cell_type": "code",
   "execution_count": 1,
   "metadata": {},
   "outputs": [],
   "source": [
    "import pandas as pd\n",
    "import matplotlib.pyplot as plt\n",
    "import mysql.connector as connection"
   ]
  },
  {
   "cell_type": "markdown",
   "metadata": {},
   "source": [
    "#### Establishing connection to MySQL database\n",
    "- With the following information: \n",
    "    - host = daflexsalesdb.c5p7yvjq1h8y.us-east-2.rds.amazonaws.com\n",
    "    - database = salesdb \n",
    "    - user = root\n",
    "    - password = D3v$tudent\n",
    "    - use_pure = True"
   ]
  },
  {
   "cell_type": "code",
   "execution_count": 2,
   "metadata": {},
   "outputs": [],
   "source": [
    "mydb = connection.connect(\n",
    "    host = 'daflexsalesdb.c5p7yvjq1h8y.us-east-2.rds.amazonaws.com',\n",
    "    database = 'salesdb',\n",
    "    user = 'root',\n",
    "    password = 'D3v$tudent',\n",
    "    use_pure = True\n",
    ")"
   ]
  },
  {
   "cell_type": "markdown",
   "metadata": {},
   "source": [
    "#### Database Manipulation\n",
    "- Query database to JOIN the information from the sales and cities tables together, and save the result as a single DataFrame variable, then view a portion of it"
   ]
  },
  {
   "cell_type": "code",
   "execution_count": 3,
   "metadata": {},
   "outputs": [
    {
     "name": "stderr",
     "output_type": "stream",
     "text": [
      "c:\\Users\\remol\\AppData\\Local\\Programs\\Python\\Python310\\lib\\site-packages\\pandas\\io\\sql.py:762: UserWarning: pandas only support SQLAlchemy connectable(engine/connection) ordatabase string URI or sqlite3 DBAPI2 connectionother DBAPI2 objects are not tested, please consider using SQLAlchemy\n",
      "  warnings.warn(\n"
     ]
    },
    {
     "data": {
      "text/html": [
       "<div>\n",
       "<style scoped>\n",
       "    .dataframe tbody tr th:only-of-type {\n",
       "        vertical-align: middle;\n",
       "    }\n",
       "\n",
       "    .dataframe tbody tr th {\n",
       "        vertical-align: top;\n",
       "    }\n",
       "\n",
       "    .dataframe thead th {\n",
       "        text-align: right;\n",
       "    }\n",
       "</style>\n",
       "<table border=\"1\" class=\"dataframe\">\n",
       "  <thead>\n",
       "    <tr style=\"text-align: right;\">\n",
       "      <th></th>\n",
       "      <th>Invoice_ID</th>\n",
       "      <th>Customer_Type</th>\n",
       "      <th>Gender</th>\n",
       "      <th>Product_Line</th>\n",
       "      <th>Unit_price</th>\n",
       "      <th>Quantity</th>\n",
       "      <th>Sales_Tax</th>\n",
       "      <th>Total</th>\n",
       "      <th>Date</th>\n",
       "      <th>Time</th>\n",
       "      <th>Payment</th>\n",
       "      <th>COGS</th>\n",
       "      <th>Gross_Income</th>\n",
       "      <th>Rating</th>\n",
       "      <th>City_ID</th>\n",
       "      <th>City</th>\n",
       "    </tr>\n",
       "  </thead>\n",
       "  <tbody>\n",
       "    <tr>\n",
       "      <th>0</th>\n",
       "      <td>101-17-6199</td>\n",
       "      <td>Normal</td>\n",
       "      <td>Male</td>\n",
       "      <td>Food and beverages</td>\n",
       "      <td>45.79</td>\n",
       "      <td>7</td>\n",
       "      <td>None</td>\n",
       "      <td>336.5565</td>\n",
       "      <td>3/13/2019</td>\n",
       "      <td>19:44</td>\n",
       "      <td>Credit card</td>\n",
       "      <td>320.53</td>\n",
       "      <td>16.0265</td>\n",
       "      <td>7.0</td>\n",
       "      <td>1</td>\n",
       "      <td>Seattle</td>\n",
       "    </tr>\n",
       "    <tr>\n",
       "      <th>1</th>\n",
       "      <td>101-81-4070</td>\n",
       "      <td>Member</td>\n",
       "      <td>Female</td>\n",
       "      <td>Health and beauty</td>\n",
       "      <td>62.82</td>\n",
       "      <td>2</td>\n",
       "      <td>None</td>\n",
       "      <td>131.9220</td>\n",
       "      <td>1/17/2019</td>\n",
       "      <td>12:36</td>\n",
       "      <td>Ewallet</td>\n",
       "      <td>125.64</td>\n",
       "      <td>6.2820</td>\n",
       "      <td>4.9</td>\n",
       "      <td>3</td>\n",
       "      <td>Milwaukee</td>\n",
       "    </tr>\n",
       "    <tr>\n",
       "      <th>2</th>\n",
       "      <td>102-06-2002</td>\n",
       "      <td>Member</td>\n",
       "      <td>Male</td>\n",
       "      <td>Sports and travel</td>\n",
       "      <td>25.25</td>\n",
       "      <td>5</td>\n",
       "      <td>None</td>\n",
       "      <td>132.5625</td>\n",
       "      <td>3/20/2019</td>\n",
       "      <td>17:52</td>\n",
       "      <td>Cash</td>\n",
       "      <td>126.25</td>\n",
       "      <td>6.3125</td>\n",
       "      <td>6.1</td>\n",
       "      <td>3</td>\n",
       "      <td>Milwaukee</td>\n",
       "    </tr>\n",
       "    <tr>\n",
       "      <th>3</th>\n",
       "      <td>102-77-2261</td>\n",
       "      <td>Member</td>\n",
       "      <td>Male</td>\n",
       "      <td>Health and beauty</td>\n",
       "      <td>65.31</td>\n",
       "      <td>7</td>\n",
       "      <td>None</td>\n",
       "      <td>480.0285</td>\n",
       "      <td>3/5/2019</td>\n",
       "      <td>18:02</td>\n",
       "      <td>Credit card</td>\n",
       "      <td>457.17</td>\n",
       "      <td>22.8585</td>\n",
       "      <td>4.2</td>\n",
       "      <td>3</td>\n",
       "      <td>Milwaukee</td>\n",
       "    </tr>\n",
       "    <tr>\n",
       "      <th>4</th>\n",
       "      <td>105-10-6182</td>\n",
       "      <td>Member</td>\n",
       "      <td>Male</td>\n",
       "      <td>Fashion accessories</td>\n",
       "      <td>21.48</td>\n",
       "      <td>2</td>\n",
       "      <td>None</td>\n",
       "      <td>45.1080</td>\n",
       "      <td>2/27/2019</td>\n",
       "      <td>12:22</td>\n",
       "      <td>Ewallet</td>\n",
       "      <td>42.96</td>\n",
       "      <td>2.1480</td>\n",
       "      <td>6.6</td>\n",
       "      <td>1</td>\n",
       "      <td>Seattle</td>\n",
       "    </tr>\n",
       "  </tbody>\n",
       "</table>\n",
       "</div>"
      ],
      "text/plain": [
       "    Invoice_ID Customer_Type  Gender         Product_Line  Unit_price  \\\n",
       "0  101-17-6199        Normal    Male   Food and beverages       45.79   \n",
       "1  101-81-4070        Member  Female    Health and beauty       62.82   \n",
       "2  102-06-2002        Member    Male    Sports and travel       25.25   \n",
       "3  102-77-2261        Member    Male    Health and beauty       65.31   \n",
       "4  105-10-6182        Member    Male  Fashion accessories       21.48   \n",
       "\n",
       "   Quantity Sales_Tax     Total       Date   Time      Payment    COGS  \\\n",
       "0         7      None  336.5565  3/13/2019  19:44  Credit card  320.53   \n",
       "1         2      None  131.9220  1/17/2019  12:36      Ewallet  125.64   \n",
       "2         5      None  132.5625  3/20/2019  17:52         Cash  126.25   \n",
       "3         7      None  480.0285   3/5/2019  18:02  Credit card  457.17   \n",
       "4         2      None   45.1080  2/27/2019  12:22      Ewallet   42.96   \n",
       "\n",
       "   Gross_Income  Rating  City_ID       City  \n",
       "0       16.0265     7.0        1    Seattle  \n",
       "1        6.2820     4.9        3  Milwaukee  \n",
       "2        6.3125     6.1        3  Milwaukee  \n",
       "3       22.8585     4.2        3  Milwaukee  \n",
       "4        2.1480     6.6        1    Seattle  "
      ]
     },
     "execution_count": 3,
     "metadata": {},
     "output_type": "execute_result"
    }
   ],
   "source": [
    "# sqlquery = \"\"\"\n",
    "# SELECT * FROM salesdb.sales\n",
    "# JOIN salesdb.cities ON salesdb.sales.City_ID = salesdb.cities.City_ID;\n",
    "# \"\"\"\n",
    "sqlquery = \"\"\"\n",
    "SELECT Invoice_ID, Customer_Type, Gender, Product_Line, Unit_price, Quantity, Sales_Tax, Total, Date, Time, Payment, COGS, Gross_Income, Rating, salesdb.sales.City_ID, City FROM salesdb.sales\n",
    "JOIN salesdb.cities ON salesdb.sales.City_ID = salesdb.cities.City_ID;\n",
    "\"\"\"\n",
    "df = pd.read_sql_query(sqlquery, mydb)\n",
    "df.head()"
   ]
  },
  {
   "cell_type": "markdown",
   "metadata": {},
   "source": [
    "#### Data Cleaning and Wrangling\n",
    "- Necessary data cleaning and wrangling steps for my DataFrame includes:\n",
    "    - Exploring the information of the joined DataFrame\n",
    "    - Checking for and removing null values, if necessary\n",
    "    - Checking for and removing duplicate rows, if necessary\n",
    "    - Converting any necessary columns to Pandas DateTime format"
   ]
  },
  {
   "cell_type": "code",
   "execution_count": 4,
   "metadata": {},
   "outputs": [
    {
     "name": "stdout",
     "output_type": "stream",
     "text": [
      "<class 'pandas.core.frame.DataFrame'>\n",
      "RangeIndex: 1000 entries, 0 to 999\n",
      "Data columns (total 16 columns):\n",
      " #   Column         Non-Null Count  Dtype  \n",
      "---  ------         --------------  -----  \n",
      " 0   Invoice_ID     1000 non-null   object \n",
      " 1   Customer_Type  1000 non-null   object \n",
      " 2   Gender         1000 non-null   object \n",
      " 3   Product_Line   1000 non-null   object \n",
      " 4   Unit_price     1000 non-null   float64\n",
      " 5   Quantity       1000 non-null   int64  \n",
      " 6   Sales_Tax      0 non-null      object \n",
      " 7   Total          1000 non-null   float64\n",
      " 8   Date           1000 non-null   object \n",
      " 9   Time           1000 non-null   object \n",
      " 10  Payment        1000 non-null   object \n",
      " 11  COGS           1000 non-null   float64\n",
      " 12  Gross_Income   1000 non-null   float64\n",
      " 13  Rating         1000 non-null   float64\n",
      " 14  City_ID        1000 non-null   int64  \n",
      " 15  City           1000 non-null   object \n",
      "dtypes: float64(5), int64(2), object(9)\n",
      "memory usage: 125.1+ KB\n"
     ]
    }
   ],
   "source": [
    "df.info() # 1000 entries, Sales_Tax column all null"
   ]
  },
  {
   "cell_type": "markdown",
   "metadata": {},
   "source": [
    "- Checking and removing null values"
   ]
  },
  {
   "cell_type": "code",
   "execution_count": 5,
   "metadata": {},
   "outputs": [
    {
     "name": "stdout",
     "output_type": "stream",
     "text": [
      "<class 'pandas.core.frame.DataFrame'>\n",
      "RangeIndex: 1000 entries, 0 to 999\n",
      "Data columns (total 15 columns):\n",
      " #   Column         Non-Null Count  Dtype  \n",
      "---  ------         --------------  -----  \n",
      " 0   Invoice_ID     1000 non-null   object \n",
      " 1   Customer_Type  1000 non-null   object \n",
      " 2   Gender         1000 non-null   object \n",
      " 3   Product_Line   1000 non-null   object \n",
      " 4   Unit_price     1000 non-null   float64\n",
      " 5   Quantity       1000 non-null   int64  \n",
      " 6   Total          1000 non-null   float64\n",
      " 7   Date           1000 non-null   object \n",
      " 8   Time           1000 non-null   object \n",
      " 9   Payment        1000 non-null   object \n",
      " 10  COGS           1000 non-null   float64\n",
      " 11  Gross_Income   1000 non-null   float64\n",
      " 12  Rating         1000 non-null   float64\n",
      " 13  City_ID        1000 non-null   int64  \n",
      " 14  City           1000 non-null   object \n",
      "dtypes: float64(5), int64(2), object(8)\n",
      "memory usage: 117.3+ KB\n"
     ]
    }
   ],
   "source": [
    "nonnull_df = df.drop(\n",
    "    labels='Sales_Tax',\n",
    "    axis= 1\n",
    ")\n",
    "nonnull_df.info()"
   ]
  },
  {
   "cell_type": "markdown",
   "metadata": {},
   "source": [
    "- Checking and removing duplicate rows"
   ]
  },
  {
   "cell_type": "code",
   "execution_count": 6,
   "metadata": {},
   "outputs": [
    {
     "data": {
      "text/plain": [
       "0      False\n",
       "671    False\n",
       "658    False\n",
       "659    False\n",
       "660    False\n",
       "       ...  \n",
       "338    False\n",
       "339    False\n",
       "340    False\n",
       "341    False\n",
       "999    False\n",
       "Length: 1000, dtype: bool"
      ]
     },
     "execution_count": 6,
     "metadata": {},
     "output_type": "execute_result"
    }
   ],
   "source": [
    "nonnull_df.duplicated().sort_values(ascending= False)\n",
    "# no duplicate rows"
   ]
  },
  {
   "cell_type": "markdown",
   "metadata": {},
   "source": [
    "- Checking and removing outliers"
   ]
  },
  {
   "cell_type": "code",
   "execution_count": 7,
   "metadata": {},
   "outputs": [],
   "source": [
    "total_cost_sorted_df1 = nonnull_df.sort_values('Total', ascending= True)\n",
    "total_cost_sorted_df2 = nonnull_df.sort_values('Total', ascending= False)\n",
    "# doesn't look like there are any outliers"
   ]
  },
  {
   "cell_type": "markdown",
   "metadata": {},
   "source": [
    "- Merging 'Date and 'Time' columns\n",
    "- Convert 'Date_Time' columns to utilize Pandas' DateTime datatype"
   ]
  },
  {
   "cell_type": "code",
   "execution_count": 8,
   "metadata": {},
   "outputs": [
    {
     "name": "stdout",
     "output_type": "stream",
     "text": [
      "<class 'pandas.core.frame.DataFrame'>\n",
      "RangeIndex: 1000 entries, 0 to 999\n",
      "Data columns (total 16 columns):\n",
      " #   Column         Non-Null Count  Dtype         \n",
      "---  ------         --------------  -----         \n",
      " 0   Invoice_ID     1000 non-null   object        \n",
      " 1   Customer_Type  1000 non-null   object        \n",
      " 2   Gender         1000 non-null   object        \n",
      " 3   Product_Line   1000 non-null   object        \n",
      " 4   Unit_price     1000 non-null   float64       \n",
      " 5   Quantity       1000 non-null   int64         \n",
      " 6   Total          1000 non-null   float64       \n",
      " 7   Date           1000 non-null   object        \n",
      " 8   Time           1000 non-null   object        \n",
      " 9   Payment        1000 non-null   object        \n",
      " 10  COGS           1000 non-null   float64       \n",
      " 11  Gross_Income   1000 non-null   float64       \n",
      " 12  Rating         1000 non-null   float64       \n",
      " 13  City_ID        1000 non-null   int64         \n",
      " 14  City           1000 non-null   object        \n",
      " 15  Date_Time      1000 non-null   datetime64[ns]\n",
      "dtypes: datetime64[ns](1), float64(5), int64(2), object(8)\n",
      "memory usage: 125.1+ KB\n"
     ]
    }
   ],
   "source": [
    "merged_df = nonnull_df\n",
    "merged_df['Date_Time'] = merged_df['Date'] + ' ' + merged_df['Time']\n",
    "datetime_df = merged_df\n",
    "datetime_df['Date_Time'] = pd.to_datetime(datetime_df['Date_Time'])\n",
    "datetime_df.info()\n",
    "mydf = datetime_df"
   ]
  },
  {
   "cell_type": "markdown",
   "metadata": {},
   "source": [
    "#### Exploring the DataFrame \n",
    "- I will examine the spread of values across categories.\n",
    "- I will utilize this exploration to answer the following questions:\n",
    "    - How many sales were made for members vs. normal customers?\n",
    "    - How many sales were made at each store location?\n",
    "    - How many sales were made for each product line?\n",
    "    - What is the overall average rating, based on all sales records?"
   ]
  },
  {
   "cell_type": "code",
   "execution_count": 9,
   "metadata": {},
   "outputs": [
    {
     "name": "stdout",
     "output_type": "stream",
     "text": [
      "my df total sum is 15379.368999999999\n"
     ]
    },
    {
     "data": {
      "text/plain": [
       "34.23532200833467"
      ]
     },
     "execution_count": 9,
     "metadata": {},
     "output_type": "execute_result"
    }
   ],
   "source": [
    "mydf\n",
    "mydf_sum = mydf['Gross_Income'].sum()\n",
    "print(f'my df total sum is {mydf_sum}')\n",
    "\n",
    "mydf_test_milwaukee = mydf.loc[(mydf['City'] == 'Milwaukee')]\n",
    "mydf_test_milwaukee_sum = mydf_test_milwaukee['Gross_Income'].sum()\n",
    "milwaukee_percentage = mydf_test_milwaukee_sum / mydf_sum * 100\n",
    "milwaukee_percentage"
   ]
  },
  {
   "cell_type": "code",
   "execution_count": 10,
   "metadata": {},
   "outputs": [
    {
     "data": {
      "text/plain": [
       "32.881921228367695"
      ]
     },
     "execution_count": 10,
     "metadata": {},
     "output_type": "execute_result"
    }
   ],
   "source": [
    "mydf_test_newyork = mydf.loc[(mydf['City'] == 'New York City')]\n",
    "mydf_test_newyork_sum = mydf_test_newyork['Gross_Income'].sum()\n",
    "newyork_percentage = mydf_test_newyork_sum / mydf_sum * 100\n",
    "newyork_percentage"
   ]
  },
  {
   "cell_type": "code",
   "execution_count": 11,
   "metadata": {},
   "outputs": [
    {
     "data": {
      "text/plain": [
       "32.882756763297635"
      ]
     },
     "execution_count": 11,
     "metadata": {},
     "output_type": "execute_result"
    }
   ],
   "source": [
    "mydf_test_seattle = mydf.loc[(mydf['City'] == 'Seattle')]\n",
    "mydf_test_seattle_sum = mydf_test_seattle['Gross_Income'].sum()\n",
    "seattle_percentage = mydf_test_seattle_sum / mydf_sum * 100\n",
    "seattle_percentage"
   ]
  },
  {
   "cell_type": "code",
   "execution_count": 12,
   "metadata": {},
   "outputs": [
    {
     "data": {
      "text/plain": [
       "100.0"
      ]
     },
     "execution_count": 12,
     "metadata": {},
     "output_type": "execute_result"
    }
   ],
   "source": [
    "allcitiessum = milwaukee_percentage + newyork_percentage + seattle_percentage\n",
    "allcitiessum"
   ]
  },
  {
   "cell_type": "markdown",
   "metadata": {},
   "source": [
    "##### How many sales were made for Members vs Normal customers?\n",
    "\n",
    "- From looking at the following DataFrame query and graph, we can see that there were 501 Member sales and 499 Normal (Non-Member) sales within our dataset."
   ]
  },
  {
   "cell_type": "code",
   "execution_count": 13,
   "metadata": {},
   "outputs": [
    {
     "data": {
      "text/plain": [
       "Member    501\n",
       "Normal    499\n",
       "Name: Customer_Type, dtype: int64"
      ]
     },
     "execution_count": 13,
     "metadata": {},
     "output_type": "execute_result"
    }
   ],
   "source": [
    "member_vs_nonmember = mydf['Customer_Type'].value_counts()\n",
    "member_vs_nonmember"
   ]
  },
  {
   "cell_type": "code",
   "execution_count": 14,
   "metadata": {},
   "outputs": [
    {
     "data": {
      "image/png": "[encoded data removed]",
      "text/plain": [
       "<Figure size 600x400 with 1 Axes>"
      ]
     },
     "metadata": {},
     "output_type": "display_data"
    }
   ],
   "source": [
    "member_vs_nonmember = mydf['Customer_Type'].value_counts(ascending= False).plot.bar(figsize=(6,4));\n",
    "plt.title('Member vs NonMember Sales', fontsize= 14);\n",
    "plt.xlabel('Customer Type', fontsize= 12);\n",
    "plt.xticks(rotation= 0, horizontalalignment= 'center');\n",
    "plt.ylabel('Number of Sales', fontsize= 12);\n",
    "member_vs_nonmember.bar_label(member_vs_nonmember.containers[0]);"
   ]
  },
  {
   "cell_type": "markdown",
   "metadata": {},
   "source": [
    "##### How many sales were made at each store location?\n",
    "- Our data indicates there were:\n",
    "    - 328 sales in Milwaukee,\n",
    "    - 332 sales in New York City,\n",
    "    - 340 sales in Seattle"
   ]
  },
  {
   "cell_type": "code",
   "execution_count": 15,
   "metadata": {},
   "outputs": [
    {
     "data": {
      "text/plain": [
       "Milwaukee        328\n",
       "New York City    332\n",
       "Seattle          340\n",
       "Name: City, dtype: int64"
      ]
     },
     "execution_count": 15,
     "metadata": {},
     "output_type": "execute_result"
    }
   ],
   "source": [
    "store_location_sales = mydf['City'].value_counts(ascending= True)\n",
    "store_location_sales"
   ]
  },
  {
   "cell_type": "code",
   "execution_count": 16,
   "metadata": {},
   "outputs": [
    {
     "data": {
      "image/png": "[encoded data removed]",
      "text/plain": [
       "<Figure size 600x400 with 1 Axes>"
      ]
     },
     "metadata": {},
     "output_type": "display_data"
    }
   ],
   "source": [
    "store_location_sales = mydf['City'].value_counts(ascending= True).plot.bar(figsize=(6,4));\n",
    "plt.title('Number of Sales per Location', fontsize= 14);\n",
    "plt.xlabel('Store Location', fontsize= 12);\n",
    "plt.xticks(rotation= 0, horizontalalignment= 'center', fontsize= 8);\n",
    "plt.ylabel('Number of Sales', fontsize= 12);\n",
    "plt.yticks(fontsize= 8)\n",
    "store_location_sales.bar_label(store_location_sales.containers[0]);"
   ]
  },
  {
   "cell_type": "markdown",
   "metadata": {},
   "source": [
    "##### How many sales were made for each product line?\n",
    "- Our data indicates that we had the following sales per product:\n",
    "    - 152 health and beauty sales\n",
    "    - 160 home and lifestyle sales\n",
    "    - 166 sports and travel sales\n",
    "    - 170 electronic accessories sales\n",
    "    - 174 food and beverage sales\n",
    "    - 178 fashion accessories"
   ]
  },
  {
   "cell_type": "code",
   "execution_count": 17,
   "metadata": {},
   "outputs": [
    {
     "data": {
      "text/plain": [
       "Health and beauty         152\n",
       "Home and lifestyle        160\n",
       "Sports and travel         166\n",
       "Electronic accessories    170\n",
       "Food and beverages        174\n",
       "Fashion accessories       178\n",
       "Name: Product_Line, dtype: int64"
      ]
     },
     "execution_count": 17,
     "metadata": {},
     "output_type": "execute_result"
    }
   ],
   "source": [
    "product_line_sales = mydf['Product_Line'].value_counts(ascending= True)\n",
    "product_line_sales"
   ]
  },
  {
   "cell_type": "code",
   "execution_count": 18,
   "metadata": {},
   "outputs": [
    {
     "data": {
      "image/png": "[encoded data removed]",
      "text/plain": [
       "<Figure size 600x400 with 1 Axes>"
      ]
     },
     "metadata": {},
     "output_type": "display_data"
    }
   ],
   "source": [
    "product_line_sales = mydf['Product_Line'].value_counts(ascending= True).plot.bar(figsize=(6,4));\n",
    "plt.title('Number of Sales per Product Line', fontsize= 14);\n",
    "plt.xlabel('Product Line', fontsize= 12);\n",
    "plt.xticks(rotation= 30, horizontalalignment= 'center', fontsize= 8);\n",
    "plt.ylabel('Number of Sales', fontsize= 12);\n",
    "plt.yticks(fontsize= 8)\n",
    "product_line_sales.bar_label(product_line_sales.containers[0]);"
   ]
  },
  {
   "cell_type": "markdown",
   "metadata": {},
   "source": [
    "##### What is the overall average rating, based on all sales records?\n",
    "- Our data indicates that the average rating based on all sales records is 6.9727."
   ]
  },
  {
   "cell_type": "code",
   "execution_count": 19,
   "metadata": {},
   "outputs": [
    {
     "name": "stdout",
     "output_type": "stream",
     "text": [
      "The average ratings based on all sales records is 6.9727.\n"
     ]
    }
   ],
   "source": [
    "mydf_average = mydf['Rating'].mean()\n",
    "print(f'The average ratings based on all sales records is {mydf_average}.')"
   ]
  },
  {
   "cell_type": "markdown",
   "metadata": {},
   "source": [
    "##### Average Rating per Location?\n",
    "- Our data indicates the average store rating is as follows: \n",
    "    - Milwaukee = 7.073\n",
    "    - New York City = 6.818\n",
    "    - Seattle = 7.027"
   ]
  },
  {
   "cell_type": "code",
   "execution_count": 20,
   "metadata": {},
   "outputs": [
    {
     "name": "stdout",
     "output_type": "stream",
     "text": [
      "The average rating for the Milwaukee store location based on all sales records is 7.072865853658537.\n",
      "The average rating for the New York City store location based on all sales records is 6.818072289156627.\n",
      "The average rating for the Seattle store location based on all sales records is 7.027058823529411.\n"
     ]
    }
   ],
   "source": [
    "# Milwaukee\n",
    "mydf_milwaukee = mydf.loc[(mydf['City'] == 'Milwaukee')]\n",
    "mydf_milwaukee_average_rating = mydf_milwaukee['Rating'].mean()\n",
    "print(f'The average rating for the Milwaukee store location based on all sales records is {mydf_milwaukee_average_rating}.')\n",
    "\n",
    "# NYC\n",
    "mydf_new_york_city = mydf.loc[(mydf['City'] == 'New York City')]\n",
    "mydf_new_york_city_average_rating = mydf_new_york_city['Rating'].mean()\n",
    "print(f'The average rating for the New York City store location based on all sales records is {mydf_new_york_city_average_rating}.')\n",
    "\n",
    "# Seattle\n",
    "mydf_seattle = mydf.loc[(mydf['City'] == 'Seattle')]\n",
    "mydf_seattle_average_rating = mydf_seattle['Rating'].mean()\n",
    "print(f'The average rating for the Seattle store location based on all sales records is {mydf_seattle_average_rating}.')\n"
   ]
  },
  {
   "cell_type": "markdown",
   "metadata": {},
   "source": [
    "## Exploratory Data Analysis P.2"
   ]
  },
  {
   "cell_type": "markdown",
   "metadata": {},
   "source": [
    "#### Setting up import for SCIKIT-Learn"
   ]
  },
  {
   "cell_type": "code",
   "execution_count": 21,
   "metadata": {},
   "outputs": [],
   "source": [
    "from sklearn.linear_model import LinearRegression"
   ]
  },
  {
   "cell_type": "markdown",
   "metadata": {},
   "source": [
    "#### Numerical Trends\n",
    "\n",
    "- Describing numeric trends in my DataFrame, using the appropriate Pandas function"
   ]
  },
  {
   "cell_type": "code",
   "execution_count": 22,
   "metadata": {},
   "outputs": [
    {
     "data": {
      "text/html": [
       "<div>\n",
       "<style scoped>\n",
       "    .dataframe tbody tr th:only-of-type {\n",
       "        vertical-align: middle;\n",
       "    }\n",
       "\n",
       "    .dataframe tbody tr th {\n",
       "        vertical-align: top;\n",
       "    }\n",
       "\n",
       "    .dataframe thead th {\n",
       "        text-align: right;\n",
       "    }\n",
       "</style>\n",
       "<table border=\"1\" class=\"dataframe\">\n",
       "  <thead>\n",
       "    <tr style=\"text-align: right;\">\n",
       "      <th></th>\n",
       "      <th>Unit_price</th>\n",
       "      <th>Quantity</th>\n",
       "      <th>Total</th>\n",
       "      <th>COGS</th>\n",
       "      <th>Gross_Income</th>\n",
       "      <th>Rating</th>\n",
       "      <th>City_ID</th>\n",
       "    </tr>\n",
       "  </thead>\n",
       "  <tbody>\n",
       "    <tr>\n",
       "      <th>count</th>\n",
       "      <td>1000.000000</td>\n",
       "      <td>1000.000000</td>\n",
       "      <td>1000.000000</td>\n",
       "      <td>1000.00000</td>\n",
       "      <td>1000.000000</td>\n",
       "      <td>1000.00000</td>\n",
       "      <td>1000.000000</td>\n",
       "    </tr>\n",
       "    <tr>\n",
       "      <th>mean</th>\n",
       "      <td>55.672130</td>\n",
       "      <td>5.510000</td>\n",
       "      <td>322.966749</td>\n",
       "      <td>307.58738</td>\n",
       "      <td>15.379369</td>\n",
       "      <td>6.97270</td>\n",
       "      <td>1.988000</td>\n",
       "    </tr>\n",
       "    <tr>\n",
       "      <th>std</th>\n",
       "      <td>26.494628</td>\n",
       "      <td>2.923431</td>\n",
       "      <td>245.885335</td>\n",
       "      <td>234.17651</td>\n",
       "      <td>11.708825</td>\n",
       "      <td>1.71858</td>\n",
       "      <td>0.817633</td>\n",
       "    </tr>\n",
       "    <tr>\n",
       "      <th>min</th>\n",
       "      <td>10.080000</td>\n",
       "      <td>1.000000</td>\n",
       "      <td>10.678500</td>\n",
       "      <td>10.17000</td>\n",
       "      <td>0.508500</td>\n",
       "      <td>4.00000</td>\n",
       "      <td>1.000000</td>\n",
       "    </tr>\n",
       "    <tr>\n",
       "      <th>25%</th>\n",
       "      <td>32.875000</td>\n",
       "      <td>3.000000</td>\n",
       "      <td>124.422375</td>\n",
       "      <td>118.49750</td>\n",
       "      <td>5.924875</td>\n",
       "      <td>5.50000</td>\n",
       "      <td>1.000000</td>\n",
       "    </tr>\n",
       "    <tr>\n",
       "      <th>50%</th>\n",
       "      <td>55.230000</td>\n",
       "      <td>5.000000</td>\n",
       "      <td>253.848000</td>\n",
       "      <td>241.76000</td>\n",
       "      <td>12.088000</td>\n",
       "      <td>7.00000</td>\n",
       "      <td>2.000000</td>\n",
       "    </tr>\n",
       "    <tr>\n",
       "      <th>75%</th>\n",
       "      <td>77.935000</td>\n",
       "      <td>8.000000</td>\n",
       "      <td>471.350250</td>\n",
       "      <td>448.90500</td>\n",
       "      <td>22.445250</td>\n",
       "      <td>8.50000</td>\n",
       "      <td>3.000000</td>\n",
       "    </tr>\n",
       "    <tr>\n",
       "      <th>max</th>\n",
       "      <td>99.960000</td>\n",
       "      <td>10.000000</td>\n",
       "      <td>1042.650000</td>\n",
       "      <td>993.00000</td>\n",
       "      <td>49.650000</td>\n",
       "      <td>10.00000</td>\n",
       "      <td>3.000000</td>\n",
       "    </tr>\n",
       "  </tbody>\n",
       "</table>\n",
       "</div>"
      ],
      "text/plain": [
       "        Unit_price     Quantity        Total        COGS  Gross_Income  \\\n",
       "count  1000.000000  1000.000000  1000.000000  1000.00000   1000.000000   \n",
       "mean     55.672130     5.510000   322.966749   307.58738     15.379369   \n",
       "std      26.494628     2.923431   245.885335   234.17651     11.708825   \n",
       "min      10.080000     1.000000    10.678500    10.17000      0.508500   \n",
       "25%      32.875000     3.000000   124.422375   118.49750      5.924875   \n",
       "50%      55.230000     5.000000   253.848000   241.76000     12.088000   \n",
       "75%      77.935000     8.000000   471.350250   448.90500     22.445250   \n",
       "max      99.960000    10.000000  1042.650000   993.00000     49.650000   \n",
       "\n",
       "           Rating      City_ID  \n",
       "count  1000.00000  1000.000000  \n",
       "mean      6.97270     1.988000  \n",
       "std       1.71858     0.817633  \n",
       "min       4.00000     1.000000  \n",
       "25%       5.50000     1.000000  \n",
       "50%       7.00000     2.000000  \n",
       "75%       8.50000     3.000000  \n",
       "max      10.00000     3.000000  "
      ]
     },
     "execution_count": 22,
     "metadata": {},
     "output_type": "execute_result"
    }
   ],
   "source": [
    "mydf.describe()"
   ]
  },
  {
   "cell_type": "markdown",
   "metadata": {},
   "source": [
    "#### Column Correlation\n",
    "- Exploring the correlation between columns of my data set, using the appropriate Pandas function\n",
    "- Knowing that the closer a value is to -1 or 1, the stronger the correlation is between two columns within our DataFrame\n",
    "    - Knowing this, we observe the strongest correlation between:\n",
    "        - Quantity and Total or COGS or Gross_Income\n",
    "            - corr: 0.705510"
   ]
  },
  {
   "cell_type": "code",
   "execution_count": 23,
   "metadata": {},
   "outputs": [
    {
     "data": {
      "text/html": [
       "<div>\n",
       "<style scoped>\n",
       "    .dataframe tbody tr th:only-of-type {\n",
       "        vertical-align: middle;\n",
       "    }\n",
       "\n",
       "    .dataframe tbody tr th {\n",
       "        vertical-align: top;\n",
       "    }\n",
       "\n",
       "    .dataframe thead th {\n",
       "        text-align: right;\n",
       "    }\n",
       "</style>\n",
       "<table border=\"1\" class=\"dataframe\">\n",
       "  <thead>\n",
       "    <tr style=\"text-align: right;\">\n",
       "      <th></th>\n",
       "      <th>Unit_price</th>\n",
       "      <th>Quantity</th>\n",
       "      <th>Total</th>\n",
       "      <th>COGS</th>\n",
       "      <th>Gross_Income</th>\n",
       "      <th>Rating</th>\n",
       "      <th>City_ID</th>\n",
       "    </tr>\n",
       "  </thead>\n",
       "  <tbody>\n",
       "    <tr>\n",
       "      <th>Unit_price</th>\n",
       "      <td>1.000000</td>\n",
       "      <td>0.010778</td>\n",
       "      <td>0.633962</td>\n",
       "      <td>0.633962</td>\n",
       "      <td>0.633962</td>\n",
       "      <td>-0.008778</td>\n",
       "      <td>0.028202</td>\n",
       "    </tr>\n",
       "    <tr>\n",
       "      <th>Quantity</th>\n",
       "      <td>0.010778</td>\n",
       "      <td>1.000000</td>\n",
       "      <td>0.705510</td>\n",
       "      <td>0.705510</td>\n",
       "      <td>0.705510</td>\n",
       "      <td>-0.015815</td>\n",
       "      <td>0.015964</td>\n",
       "    </tr>\n",
       "    <tr>\n",
       "      <th>Total</th>\n",
       "      <td>0.633962</td>\n",
       "      <td>0.705510</td>\n",
       "      <td>1.000000</td>\n",
       "      <td>1.000000</td>\n",
       "      <td>1.000000</td>\n",
       "      <td>-0.036442</td>\n",
       "      <td>0.041047</td>\n",
       "    </tr>\n",
       "    <tr>\n",
       "      <th>COGS</th>\n",
       "      <td>0.633962</td>\n",
       "      <td>0.705510</td>\n",
       "      <td>1.000000</td>\n",
       "      <td>1.000000</td>\n",
       "      <td>1.000000</td>\n",
       "      <td>-0.036442</td>\n",
       "      <td>0.041047</td>\n",
       "    </tr>\n",
       "    <tr>\n",
       "      <th>Gross_Income</th>\n",
       "      <td>0.633962</td>\n",
       "      <td>0.705510</td>\n",
       "      <td>1.000000</td>\n",
       "      <td>1.000000</td>\n",
       "      <td>1.000000</td>\n",
       "      <td>-0.036442</td>\n",
       "      <td>0.041047</td>\n",
       "    </tr>\n",
       "    <tr>\n",
       "      <th>Rating</th>\n",
       "      <td>-0.008778</td>\n",
       "      <td>-0.015815</td>\n",
       "      <td>-0.036442</td>\n",
       "      <td>-0.036442</td>\n",
       "      <td>-0.036442</td>\n",
       "      <td>1.000000</td>\n",
       "      <td>0.010238</td>\n",
       "    </tr>\n",
       "    <tr>\n",
       "      <th>City_ID</th>\n",
       "      <td>0.028202</td>\n",
       "      <td>0.015964</td>\n",
       "      <td>0.041047</td>\n",
       "      <td>0.041047</td>\n",
       "      <td>0.041047</td>\n",
       "      <td>0.010238</td>\n",
       "      <td>1.000000</td>\n",
       "    </tr>\n",
       "  </tbody>\n",
       "</table>\n",
       "</div>"
      ],
      "text/plain": [
       "              Unit_price  Quantity     Total      COGS  Gross_Income  \\\n",
       "Unit_price      1.000000  0.010778  0.633962  0.633962      0.633962   \n",
       "Quantity        0.010778  1.000000  0.705510  0.705510      0.705510   \n",
       "Total           0.633962  0.705510  1.000000  1.000000      1.000000   \n",
       "COGS            0.633962  0.705510  1.000000  1.000000      1.000000   \n",
       "Gross_Income    0.633962  0.705510  1.000000  1.000000      1.000000   \n",
       "Rating         -0.008778 -0.015815 -0.036442 -0.036442     -0.036442   \n",
       "City_ID         0.028202  0.015964  0.041047  0.041047      0.041047   \n",
       "\n",
       "                Rating   City_ID  \n",
       "Unit_price   -0.008778  0.028202  \n",
       "Quantity     -0.015815  0.015964  \n",
       "Total        -0.036442  0.041047  \n",
       "COGS         -0.036442  0.041047  \n",
       "Gross_Income -0.036442  0.041047  \n",
       "Rating        1.000000  0.010238  \n",
       "City_ID       0.010238  1.000000  "
      ]
     },
     "execution_count": 23,
     "metadata": {},
     "output_type": "execute_result"
    }
   ],
   "source": [
    "mydf.corr()"
   ]
  },
  {
   "cell_type": "markdown",
   "metadata": {},
   "source": [
    "#### High Correlation Plotting\n",
    "- With the columns with the strongest correlation noted, and I will visualize those two columns using a Matplotlib Scatter Plot. I will ensure my plot includes the following:\n",
    "    - A chart title\n",
    "    - An X-axis label\n",
    "    - A Y-axis label"
   ]
  },
  {
   "cell_type": "code",
   "execution_count": 24,
   "metadata": {},
   "outputs": [
    {
     "name": "stderr",
     "output_type": "stream",
     "text": [
      "c:\\Users\\remol\\AppData\\Local\\Programs\\Python\\Python310\\lib\\site-packages\\pandas\\plotting\\_matplotlib\\core.py:1114: UserWarning: No data for colormapping provided via 'c'. Parameters 'cmap' will be ignored\n",
      "  scatter = ax.scatter(\n"
     ]
    },
    {
     "data": {
      "text/plain": [
       "Text(0, 0.5, 'Gross Income')"
      ]
     },
     "execution_count": 24,
     "metadata": {},
     "output_type": "execute_result"
    },
    {
     "data": {
      "image/png": "[encoded data removed]",
      "text/plain": [
       "<Figure size 800x400 with 1 Axes>"
      ]
     },
     "metadata": {},
     "output_type": "display_data"
    }
   ],
   "source": [
    "mydf.plot.scatter(x='Quantity', y='Gross_Income', figsize=(8,4))\n",
    "plt.title('Scatterplot of Gross Income and Quantity Sold')\n",
    "plt.ylabel('Gross Income')"
   ]
  },
  {
   "cell_type": "markdown",
   "metadata": {},
   "source": [
    "#### Reshaping Columns for Linear Regression Fit\n",
    "- Reshaping my two columns to prepare for fitting to a linear regression model, and save each as its own unique variable."
   ]
  },
  {
   "cell_type": "code",
   "execution_count": 25,
   "metadata": {},
   "outputs": [],
   "source": [
    "model = LinearRegression()\n",
    "\n",
    "x_values = mydf[['Quantity']]\n",
    "y_values = mydf[['Gross_Income']]"
   ]
  },
  {
   "cell_type": "markdown",
   "metadata": {},
   "source": [
    "#### Plotting Linear Regression Model\n",
    "- Creating a new LinearRegression instance, and using the appropriate function to create a predictive model for my Y-axis values."
   ]
  },
  {
   "cell_type": "code",
   "execution_count": 26,
   "metadata": {},
   "outputs": [],
   "source": [
    "model.fit(x_values, y_values)\n",
    "y_prediction_line = model.predict(x_values)"
   ]
  },
  {
   "cell_type": "markdown",
   "metadata": {},
   "source": [
    "#### Creating a Visualization of Predictive Model\n",
    "- Creating a visualization of my predictive model, and ensuring I include the following stylizations:\n",
    "    - A chart title\n",
    "    - X-axis label\n",
    "    - Y-axis label\n",
    "    - A different color line for my predictive model"
   ]
  },
  {
   "cell_type": "code",
   "execution_count": 27,
   "metadata": {},
   "outputs": [
    {
     "name": "stderr",
     "output_type": "stream",
     "text": [
      "c:\\Users\\remol\\AppData\\Local\\Programs\\Python\\Python310\\lib\\site-packages\\pandas\\plotting\\_matplotlib\\core.py:1114: UserWarning: No data for colormapping provided via 'c'. Parameters 'cmap' will be ignored\n",
      "  scatter = ax.scatter(\n"
     ]
    },
    {
     "data": {
      "text/plain": [
       "Text(0, 0.5, 'Gross Income')"
      ]
     },
     "execution_count": 27,
     "metadata": {},
     "output_type": "execute_result"
    },
    {
     "data": {
      "image/png": "[encoded data removed]",
      "text/plain": [
       "<Figure size 800x400 with 1 Axes>"
      ]
     },
     "metadata": {},
     "output_type": "display_data"
    }
   ],
   "source": [
    "mydf.plot.scatter(x='Quantity', y='Gross_Income', figsize=(8,4))\n",
    "plt.plot(x_values, y_prediction_line, color='red')\n",
    "plt.title('Scatterplot of Gross Income and Quantity Sold with Predictive Best Fit Line')\n",
    "plt.ylabel('Gross Income')"
   ]
  },
  {
   "cell_type": "markdown",
   "metadata": {},
   "source": [
    "#### Generating Linear Regression Formula\n",
    "- Known as y = mx + b\n",
    "- First I will generate the y-intercept (b)\n",
    "- Second, the slope of the line (m)\n",
    "- Lastly, I will present the generated Linear Regression Formula"
   ]
  },
  {
   "cell_type": "code",
   "execution_count": 28,
   "metadata": {},
   "outputs": [
    {
     "name": "stdout",
     "output_type": "stream",
     "text": [
      "The y-intercept for our line is: -0.1901584790171018.\n",
      "The slope of our line is 2.8256855678796917.\n",
      "Our best fit line is Gross Income = 2.8256855678796917 * Quantity + -0.1901584790171018.\n",
      "If we sell a quantity of 15 items, our model predicts our gross income will be 42.19512503917828\n"
     ]
    }
   ],
   "source": [
    "y_intercept = model.intercept_\n",
    "print(f'The y-intercept for our line is: {y_intercept[0]}.')\n",
    "\n",
    "slope = model.coef_\n",
    "print(f'The slope of our line is {slope[0][0]}.')\n",
    "\n",
    "print(f'Our best fit line is Gross Income = {slope[0][0]} * Quantity + {y_intercept[0]}.')\n",
    "\n",
    "quantity = 15\n",
    "gross_income = slope*quantity+y_intercept\n",
    "print(f\"If we sell a quantity of {quantity} items, our model predicts our gross income will be {gross_income[0][0]}\")"
   ]
  },
  {
   "cell_type": "markdown",
   "metadata": {},
   "source": [
    "#### Presentation of Findings\n",
    "- Presenting my findings as a Level I-style video recording (informal) that is no more than 5-8 minutes and covers the following:\n",
    "    - The completed results of my Jupyter notebook\n",
    "    - Key visualizations generated based off of evaluation questions\n",
    "    - Any other cleaned/wrangled supporting data \n",
    "    - Communicate any insights you’ve gathered by working with the data\n",
    "    - Make sure to address a specific individual in my video as if I were responding to a request for analysis (can pick a fictional person or choose an instructor!)"
   ]
  }
 ],
 "metadata": {
  "kernelspec": {
   "display_name": "Python 3.10.5 64-bit",
   "language": "python",
   "name": "python3"
  },
  "language_info": {
   "codemirror_mode": {
    "name": "ipython",
    "version": 3
   },
   "file_extension": ".py",
   "mimetype": "text/x-python",
   "name": "python",
   "nbconvert_exporter": "python",
   "pygments_lexer": "ipython3",
   "version": "3.10.5"
  },
  "orig_nbformat": 4,
  "vscode": {
   "interpreter": {
    "hash": "9992c78e4daa8bfa32e0466d9f5b3ce25dd1b208084dfefaa46829c75e47a75e"
   }
  }
 },
 "nbformat": 4,
 "nbformat_minor": 2
}
